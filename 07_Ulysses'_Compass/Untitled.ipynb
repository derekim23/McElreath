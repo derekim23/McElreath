{
 "cells": [
  {
   "cell_type": "markdown",
   "id": "973326ea",
   "metadata": {},
   "source": [
    "7E1.  State the three motivating criteria that define information entropy. Try to express each in your own words."
   ]
  },
  {
   "cell_type": "markdown",
   "id": "26400f4d",
   "metadata": {},
   "source": [
    "A: Information entropy should...\n",
    "1. be measured on a continuous scale such that the spacing between adjacent values is consistent\n",
    "2. capture the probability space s.t. each space's value scales with the representive probability mass\n",
    "3. be additive for independent events"
   ]
  },
  {
   "cell_type": "markdown",
   "id": "4325c24b",
   "metadata": {},
   "source": [
    "7E2.  Suppose a coin is weighted such that, when it is tossed and lands on a table, it comes up heads 70% of the time. What is the entropy of this coin?"
   ]
  },
  {
   "cell_type": "code",
   "execution_count": 8,
   "id": "2f8a8135",
   "metadata": {},
   "outputs": [
    {
     "data": {
      "text/html": [
       "0.881290899230693"
      ],
      "text/latex": [
       "0.881290899230693"
      ],
      "text/markdown": [
       "0.881290899230693"
      ],
      "text/plain": [
       "[1] 0.8812909"
      ]
     },
     "metadata": {},
     "output_type": "display_data"
    }
   ],
   "source": [
    "p <- c(.7, .3)\n",
    "(h <- -sum(p*log(p,2)))"
   ]
  },
  {
   "cell_type": "markdown",
   "id": "56cbfa74",
   "metadata": {},
   "source": [
    "7E4.  Suppose another four-sided die is loaded such that it never shows “4”. The other three sides show equally often. What is the entropy of this die?"
   ]
  },
  {
   "cell_type": "code",
   "execution_count": 7,
   "id": "05923a43",
   "metadata": {},
   "outputs": [
    {
     "data": {
      "text/html": [
       "1.58496250072116"
      ],
      "text/latex": [
       "1.58496250072116"
      ],
      "text/markdown": [
       "1.58496250072116"
      ],
      "text/plain": [
       "[1] 1.584963"
      ]
     },
     "metadata": {},
     "output_type": "display_data"
    }
   ],
   "source": [
    "#Skipping 7E3, because it's essentially the same as this question.\n",
    "p <- rep(1/3,3)\n",
    "-sum(p*log(p,2))"
   ]
  },
  {
   "cell_type": "markdown",
   "id": "16f3c73f",
   "metadata": {},
   "source": [
    "7E4.  What happens to the effective number of parameters, as measured by PSIS or WAIC, as a prior becomes more concentrated? Why? Perform some experiments, if you are not sure."
   ]
  },
  {
   "cell_type": "code",
   "execution_count": 11,
   "id": "bf195518",
   "metadata": {},
   "outputs": [
    {
     "name": "stderr",
     "output_type": "stream",
     "text": [
      "also installing the dependencies ‘askpass’, ‘credentials’, ‘openssl’, ‘sys’, ‘zip’, ‘gitcreds’, ‘httr2’, ‘ini’, ‘vctrs’, ‘httpuv’, ‘mime’, ‘xtable’, ‘fontawesome’, ‘sourcetools’, ‘later’, ‘promises’, ‘htmltools’, ‘jquerylib’, ‘sass’, ‘systemfonts’, ‘textshaping’, ‘tinytex’, ‘xfun’, ‘pkgconfig’, ‘highr’, ‘diffobj’, ‘rematch2’, ‘generics’, ‘numDeriv’, ‘clipr’, ‘curl’, ‘gert’, ‘gh’, ‘purrr’, ‘rappdirs’, ‘rprojroot’, ‘rstudioapi’, ‘whisker’, ‘yaml’, ‘R6’, ‘cachem’, ‘shiny’, ‘callr’, ‘processx’, ‘bslib’, ‘downlit’, ‘httr’, ‘magrittr’, ‘ragg’, ‘rmarkdown’, ‘tibble’, ‘xml2’, ‘rlang’, ‘htmlwidgets’, ‘stringr’, ‘prettyunits’, ‘xopen’, ‘brew’, ‘commonmark’, ‘knitr’, ‘stringi’, ‘cpp11’, ‘brio’, ‘digest’, ‘praise’, ‘ps’, ‘waldo’, ‘backports’, ‘abind’, ‘tensorA’, ‘distributional’, ‘Rcpp’, ‘usethis’, ‘desc’, ‘fs’, ‘memoise’, ‘miniUI’, ‘pkgbuild’, ‘pkgdown’, ‘pkgload’, ‘profvis’, ‘rcmdcheck’, ‘remotes’, ‘roxygen2’, ‘rversions’, ‘sessioninfo’, ‘testthat’, ‘urlchecker’, ‘withr’, ‘checkmate’, ‘matrixStats’, ‘posterior’, ‘V8’\n",
      "\n",
      "\n",
      "Warning message in install.packages(c(\"coda\", \"mvtnorm\", \"devtools\", \"loo\", \"dagitty\", :\n",
      "“installation of package ‘systemfonts’ had non-zero exit status”\n",
      "Warning message in install.packages(c(\"coda\", \"mvtnorm\", \"devtools\", \"loo\", \"dagitty\", :\n",
      "“installation of package ‘textshaping’ had non-zero exit status”\n",
      "Warning message in install.packages(c(\"coda\", \"mvtnorm\", \"devtools\", \"loo\", \"dagitty\", :\n",
      "“installation of package ‘ragg’ had non-zero exit status”\n",
      "Warning message in install.packages(c(\"coda\", \"mvtnorm\", \"devtools\", \"loo\", \"dagitty\", :\n",
      "“installation of package ‘gert’ had non-zero exit status”\n",
      "Warning message in install.packages(c(\"coda\", \"mvtnorm\", \"devtools\", \"loo\", \"dagitty\", :\n",
      "“installation of package ‘usethis’ had non-zero exit status”\n",
      "Warning message in install.packages(c(\"coda\", \"mvtnorm\", \"devtools\", \"loo\", \"dagitty\", :\n",
      "“installation of package ‘pkgdown’ had non-zero exit status”\n",
      "Warning message in install.packages(c(\"coda\", \"mvtnorm\", \"devtools\", \"loo\", \"dagitty\", :\n",
      "“installation of package ‘devtools’ had non-zero exit status”\n",
      "Updating HTML index of packages in '.Library'\n",
      "\n",
      "Making 'packages.html' ...\n",
      " done\n",
      "\n"
     ]
    },
    {
     "ename": "ERROR",
     "evalue": "Error in loadNamespace(x): there is no package called ‘devtools’\n",
     "output_type": "error",
     "traceback": [
      "Error in loadNamespace(x): there is no package called ‘devtools’\nTraceback:\n",
      "1. loadNamespace(x)",
      "2. withRestarts(stop(cond), retry_loadNamespace = function() NULL)",
      "3. withOneRestart(expr, restarts[[1L]])",
      "4. doWithOneRestart(return(expr), restart)"
     ]
    }
   ],
   "source": [
    "install.packages(c(\"coda\",\"mvtnorm\",\"devtools\",\"loo\",\"dagitty\",\"shape\"))\n",
    "devtools::install_github(\"rmcelreath/rethinking\")"
   ]
  },
  {
   "cell_type": "code",
   "execution_count": 9,
   "id": "c74d84a5",
   "metadata": {},
   "outputs": [
    {
     "ename": "ERROR",
     "evalue": "Error in library(rethinking): there is no package called ‘rethinking’\n",
     "output_type": "error",
     "traceback": [
      "Error in library(rethinking): there is no package called ‘rethinking’\nTraceback:\n",
      "1. library(rethinking)"
     ]
    }
   ],
   "source": [
    "#They should decrease, as we're regularizing to prevent overfitting.\n",
    "library(rethinking)\n",
    "data(WaffleDivorce)\n",
    "d <- WaffleDivorce\n",
    "d$D <- standardize(d$Divorce)\n",
    "d$A <- standardize(d$MedianAge)\n",
    "d$\n",
    "\n",
    "m <- quap(alist())"
   ]
  }
 ],
 "metadata": {
  "kernelspec": {
   "display_name": "R",
   "language": "R",
   "name": "ir"
  },
  "language_info": {
   "codemirror_mode": "r",
   "file_extension": ".r",
   "mimetype": "text/x-r-source",
   "name": "R",
   "pygments_lexer": "r",
   "version": "4.2.1"
  }
 },
 "nbformat": 4,
 "nbformat_minor": 5
}
